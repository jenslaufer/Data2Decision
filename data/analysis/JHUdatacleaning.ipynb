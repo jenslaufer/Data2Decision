{
 "cells": [
  {
   "cell_type": "code",
   "execution_count": 11,
   "metadata": {},
   "outputs": [],
   "source": [
    "#Setting up pandas libary\n",
    "import pandas as pd\n",
    "\n",
    "#Importing most recent data from JHU\n",
    "url_confirmed = 'https://raw.githubusercontent.com/CSSEGISandData/COVID-19/master/csse_covid_19_data/csse_covid_19_time_series/time_series_19-covid-Confirmed.csv'\n",
    "url_deaths = 'https://raw.githubusercontent.com/CSSEGISandData/COVID-19/master/csse_covid_19_data/csse_covid_19_time_series/time_series_19-covid-Deaths.csv'\n",
    "data_confirmed = pd.read_csv(url_confirmed)\n",
    "data_dead = pd.read_csv(url_deaths)\n",
    "\n",
    "#Cleaning the confirmed cases data from JHU\n",
    "dcc = data_confirmed.rename(columns = {\"Province/State\": \"state\", \"Country/Region\": \"country\"}) #renaming some columns\n",
    "dcc = dcc.groupby(\"country\").sum() #summing up values of countries that have their values distributed over states e.g. US, France\n",
    "dcc = dcc.iloc[:,2:].T.rename(columns = {\"Korea, South\": \"South Korea\"}) #transversing the dataframe and rename one column\n",
    "dcc['day'] = range(0,len(dcc)) #create a column for the day count\n",
    "dcc['dates'] = dcc.index       #copy the index(dates) to a new column\n",
    "dcc['datetime'] = pd.to_datetime(dcc['dates'])\n",
    "dcc = dcc.set_index('datetime')     #make the day count the new index\n",
    "dcc.to_csv(r'confirmed_cases.csv', index = True)\n",
    "\n",
    "#Cleaning the death cases data from JHU\n",
    "ddc = data_dead.rename(columns = {\"Province/State\": \"state\", \"Country/Region\": \"country\"})\n",
    "ddc = ddc.groupby(\"country\").sum()\n",
    "ddc = ddc.iloc[:,2:].T.rename(columns = {\"Korea, South\": \"South Korea\"})\n",
    "ddc['day'] = range(0,len(ddc))\n",
    "ddc['dates'] = ddc.index\n",
    "ddc['datetime'] = pd.to_datetime(ddc['dates'])\n",
    "ddc = ddc.set_index('datetime')  \n",
    "dcc.to_csv(r'dead_cases.csv', index = True)\n",
    "\n",
    "#day when exponential growth starts for confirmed cases / death cases\n",
    "expini_data =[['Germany',33,'2/24/20',47,'3/9/20'],\n",
    "         ['Spain',33,'2/24/20',41,'3/3/20'],\n",
    "         ['France',33,'2/24/20',34,'2/24/20'],\n",
    "         ['Italy',29,'2/20/20',30,'2/21/20'],\n",
    "         ['South Korea',24,'2/15/20',28,'2/19/20'],\n",
    "         ['US',32,'2/23/20',38,'2/29/20']]\n",
    "expini = pd.DataFrame(expini_data,columns =['country','confirmed_day','confirmed_date','death_day','death_date']).set_index('country')\n",
    "expini['confirmed_date'] = pd.to_datetime(expini['confirmed_date'])\n",
    "expini['death_date'] = pd.to_datetime(expini['death_date'])\n",
    "expini.to_csv(r'start_days_of_exp_growth.csv', index = True)\n"
   ]
  }
 ],
 "metadata": {
  "kernelspec": {
   "display_name": "Python 3",
   "language": "python",
   "name": "python3"
  },
  "language_info": {
   "codemirror_mode": {
    "name": "ipython",
    "version": 3
   },
   "file_extension": ".py",
   "mimetype": "text/x-python",
   "name": "python",
   "nbconvert_exporter": "python",
   "pygments_lexer": "ipython3",
   "version": "3.7.6"
  }
 },
 "nbformat": 4,
 "nbformat_minor": 4
}
